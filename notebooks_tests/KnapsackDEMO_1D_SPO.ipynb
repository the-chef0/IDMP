{
 "cells": [
  {
   "cell_type": "markdown",
   "metadata": {},
   "source": [
    "1D KNAPSACK PROBLEM WITH SPO+ PREDICTION"
   ]
  },
  {
   "cell_type": "code",
   "execution_count": 224,
   "metadata": {},
   "outputs": [],
   "source": [
    "import time\n",
    "import random\n",
    "import pyepo\n",
    "import torch\n",
    "from matplotlib import pyplot as plt\n",
    "from matplotlib import colormaps\n",
    "import numpy as np\n",
    "from tqdm import tqdm\n",
    "from torch import nn"
   ]
  },
  {
   "cell_type": "code",
   "execution_count": 225,
   "metadata": {},
   "outputs": [
    {
     "data": {
      "text/plain": [
       "<torch._C.Generator at 0x224655b1310>"
      ]
     },
     "execution_count": 225,
     "metadata": {},
     "output_type": "execute_result"
    }
   ],
   "source": [
    "# fix random seed\n",
    "random.seed(100)\n",
    "np.random.seed(100)\n",
    "torch.manual_seed(100)"
   ]
  },
  {
   "cell_type": "code",
   "execution_count": 226,
   "metadata": {},
   "outputs": [],
   "source": [
    "def visSol(data_loader, optmodel, ind=0, pytorch_model=None, method_name=None):\n",
    "  # extract solutions by iterating over data loader (pytorch does not provide indexing into it)\n",
    "  for i, data in enumerate(loader_test):\n",
    "      if i == ind:\n",
    "        # load data\n",
    "        x, c, w, z = data\n",
    "        # cuda\n",
    "        if torch.cuda.is_available():\n",
    "            x, c, w, z = x.cuda(), c.cuda(), w.cuda(), z.cuda()\n",
    "        # convert to numpy\n",
    "        c = c.to(\"cpu\").detach().numpy()[0]\n",
    "        w = w.to(\"cpu\").detach().numpy()[0]\n",
    "        z = z.to(\"cpu\").detach().numpy()[0]\n",
    "        # predict\n",
    "        if pytorch_model is not None:\n",
    "          cp = pytorch_model(x)\n",
    "          cp = cp.to(\"cpu\").detach().numpy()\n",
    "          # solve\n",
    "          optmodel.setObj(cp[0])\n",
    "          wp, _ = optmodel.solve()\n",
    "        else:\n",
    "          cp = [None]\n",
    "          wp = w\n",
    "          method_name = \"Groundtruth Optimal Solution\"\n",
    "        # plot\n",
    "        fig = plotSol(m, c, wp, weights, caps, method_name, cp[0])\n",
    "        break"
   ]
  },
  {
   "cell_type": "code",
   "execution_count": 227,
   "metadata": {},
   "outputs": [],
   "source": [
    "# plot function\n",
    "def plotSol(m, c, w, weights, caps, caption=None, cp=None):\n",
    "    # colors\n",
    "    cmap = colormaps[\"plasma\"](np.linspace(0, 1, m))\n",
    "    # get list\n",
    "    sol, val, cap1, cap2, cpred = [], [], [], [], []\n",
    "    for i in range(m):\n",
    "        sol.append(3)\n",
    "        val.append(c[i] * w[i])\n",
    "        cap1.append(weights[0,i] * w[i])\n",
    "        #cap2.append(weights[1,i] * w[i])\n",
    "        if cp is not None:\n",
    "          cpred.append(cp[i] * w[i])\n",
    "    # init fig\n",
    "    fig = plt.figure(figsize=(8,4))\n",
    "    plt.gca().invert_yaxis()\n",
    "    acc = [0, 0, 0]\n",
    "    # bar plot\n",
    "    if cp is None:\n",
    "      for i in range(m):\n",
    "          bar = [sol[i], val[i], cap1[i]]#, cap2[i]]\n",
    "          plt.barh(range(3), bar, left=acc, color=cmap[i], height=0.75, edgecolor=\"w\", linewidth=2)\n",
    "          # not selected\n",
    "          if not int(w[i]):\n",
    "              # grey color\n",
    "              bar = [sol[i], 0, 0]\n",
    "              plt.barh(range(3), bar, left=acc, color=cmap[i], height=0.75, edgecolor=\"w\", linewidth=2)\n",
    "              plt.barh(range(3), bar, left=acc, color=\"lightgrey\", height=0.75, edgecolor=\"w\", linewidth=2, alpha=0.9)\n",
    "          acc = [acc[0]+sol[i], acc[1]+val[i], acc[2]+cap1[i]]#, acc[3]+cap2[i]]\n",
    "    else:\n",
    "      acc = [0, 0, 0, 0]\n",
    "      for i in range(m):\n",
    "          bar = [sol[i], val[i], cpred[i], cap1[i]]#, cap2[i]]\n",
    "          plt.barh(range(4), bar, left=acc, color=cmap[i], height=0.75, edgecolor=\"w\", linewidth=2)\n",
    "          # not selected\n",
    "          if not int(w[i]):\n",
    "              # grey color\n",
    "              bar = [sol[i], 0, 0, 0]\n",
    "              plt.barh(range(4), bar, left=acc, color=cmap[i], height=0.75, edgecolor=\"w\", linewidth=2)\n",
    "              plt.barh(range(4), bar, left=acc, color=\"lightgrey\", height=0.75, edgecolor=\"w\", linewidth=2, alpha=0.9)\n",
    "          acc = [acc[0]+sol[i], acc[1]+val[i], acc[2]+cpred[i], acc[3]+cap1[i]]#, acc[4]+cap2[i]]\n",
    "    # total value\n",
    "    tval = sum(val)\n",
    "    plt.text(tval+0.5, 1.1, tval, fontsize=12)\n",
    "    # vertical line\n",
    "    if cp is None:\n",
    "      plt.axvline(x=caps[0], ymin=0.27, ymax=0.48, color=\"firebrick\", linewidth=1.5)\n",
    "      plt.text(caps[0]+0.5, 2.1, \"Capacity 1\", fontsize=12, color=\"firebrick\")\n",
    "    else:\n",
    "      # total predicted value\n",
    "      tpredval = sum(cpred)\n",
    "      plt.text(tpredval+0.5, 2.1, \"%.2f\"%tpredval, fontsize=12)\n",
    "      plt.axvline(x=caps[0], ymin=0.23, ymax=0.38, color=\"firebrick\", linewidth=1.5)\n",
    "      plt.text(caps[0]+0.5, 3.1, \"Capacity 1\", fontsize=12, color=\"firebrick\")\n",
    "    # labels and ticks\n",
    "    plt.xticks([])\n",
    "    bar_labels = [\"Items Selection\", \"Items Predicted Value\", \"Resource 1\"] if cp is None else [\"Items Selection\", \"Items True Value\", \"Items Predicted Value\", \"Resource 1\"]\n",
    "    plt.yticks(range(len(bar_labels)), bar_labels, fontsize=16)\n",
    "    plt.minorticks_off()\n",
    "    plt.tick_params(axis='both', length=0)\n",
    "    plt.gca().spines[\"right\"].set_visible(False)\n",
    "    plt.gca().spines[\"top\"].set_visible(False)\n",
    "    plt.gca().spines[\"bottom\"].set_visible(False)\n",
    "    plt.title(caption, fontsize=18)\n",
    "    plt.show()\n",
    "    return fig"
   ]
  },
  {
   "cell_type": "code",
   "execution_count": 228,
   "metadata": {},
   "outputs": [],
   "source": [
    "def visLearningCurve(loss_log, regret_log):\n",
    "    # create figure and subplots\n",
    "    fig, (ax1, ax2) = plt.subplots(1, 2, figsize=(16,4))\n",
    "\n",
    "    # draw plot for training loss\n",
    "    ax1.plot(loss_log, color=\"c\", lw=1)\n",
    "    ax1.tick_params(axis=\"both\", which=\"major\", labelsize=12)\n",
    "    ax1.set_xlabel(\"Iters\", fontsize=16)\n",
    "    ax1.set_ylabel(\"Loss\", fontsize=16)\n",
    "\n",
    "    # draw plot for regret on test\n",
    "    ax2.plot(regret_log, color=\"royalblue\", ls=\"--\", alpha=0.7, lw=1)\n",
    "    ax2.set_xticks(range(0, len(regret_log), 2))\n",
    "    ax2.tick_params(axis=\"both\", which=\"major\", labelsize=12)\n",
    "    ax2.set_ylim(0, 0.5)\n",
    "    ax2.set_xlabel(\"Epochs\", fontsize=16)\n",
    "    ax2.set_ylabel(\"Regret\", fontsize=16)\n",
    "\n",
    "    plt.title(\"Learning Curve on Training Set\", fontsize=16)\n",
    "    plt.show()"
   ]
  },
  {
   "cell_type": "code",
   "execution_count": 247,
   "metadata": {},
   "outputs": [
    {
     "name": "stdout",
     "output_type": "stream",
     "text": [
      "(1000, 10)\n",
      "(1000, 20)\n"
     ]
    }
   ],
   "source": [
    "# fix random seed\n",
    "random.seed(100)\n",
    "np.random.seed(100)\n",
    "torch.manual_seed(100)\n",
    "\n",
    "# generate data for 1D knapsack\n",
    "m = 10 # number of items\n",
    "n = 1000 # number of data AKA number of ALPHAs\n",
    "p = 2 * m # size of feature\n",
    "deg = 2 # polynomial degree\n",
    "dim = 1 # dimension of knapsack\n",
    "\n",
    "weights = np.array([np.round(np.random.uniform(1, 3, m),2)])\n",
    "caps = [6] # capacity\n",
    "ni = np.random.uniform(-1, 1, m)\n",
    "ei = np.random.uniform(-1, 1, m)    \n",
    "alphas = np.random.uniform(-5, 15, n)\n",
    "noise = 0.5  \n",
    "\n",
    "real_values = []\n",
    "for j in range(n):\n",
    "    data_point = []\n",
    "    for i in range(m):\n",
    "        data_point.append(np.random.normal(ni[i]*ni[i] + ei[i] + ei[i]*ni[i], noise))   # non-linear combination of n[i] an e[i] with some noise\n",
    "\n",
    "    real_values.append(data_point)     \n",
    "\n",
    "ni_ei = []\n",
    "for i in range(m):\n",
    "    ni_ei.extend([ni[i], ei[i]])\n",
    "\n",
    "x = np.tile(ni_ei, (n, 1))\n",
    "c = np.array(real_values)\n",
    "\n",
    "print(c.shape)\n",
    "print(x.shape)\n",
    "\n"
   ]
  },
  {
   "cell_type": "code",
   "execution_count": 248,
   "metadata": {},
   "outputs": [],
   "source": [
    "# data split\n",
    "from sklearn.model_selection import train_test_split\n",
    "x_train, x_test, c_train, c_test = train_test_split(x, c, test_size=int(0.8*n), random_state=246)"
   ]
  },
  {
   "cell_type": "code",
   "execution_count": 249,
   "metadata": {},
   "outputs": [],
   "source": [
    "optmodel = pyepo.model.grb.knapsackModel(weights, caps)"
   ]
  },
  {
   "cell_type": "code",
   "execution_count": 250,
   "metadata": {},
   "outputs": [
    {
     "name": "stdout",
     "output_type": "stream",
     "text": [
      "Optimizing for optDataset...\n"
     ]
    },
    {
     "name": "stderr",
     "output_type": "stream",
     "text": [
      "100%|██████████| 200/200 [00:00<00:00, 443.66it/s]\n"
     ]
    },
    {
     "name": "stdout",
     "output_type": "stream",
     "text": [
      "Optimizing for optDataset...\n"
     ]
    },
    {
     "name": "stderr",
     "output_type": "stream",
     "text": [
      "100%|██████████| 800/800 [00:01<00:00, 534.16it/s]\n"
     ]
    }
   ],
   "source": [
    "# get training data set\n",
    "dataset_train = pyepo.data.dataset.optDataset(optmodel, x_train, c_train)\n",
    "# get test data set\n",
    "dataset_test = pyepo.data.dataset.optDataset(optmodel, x_test, c_test)\n"
   ]
  },
  {
   "cell_type": "code",
   "execution_count": null,
   "metadata": {},
   "outputs": [],
   "source": [
    "\n"
   ]
  },
  {
   "cell_type": "code",
   "execution_count": 251,
   "metadata": {},
   "outputs": [],
   "source": [
    "# get data loader\n",
    "from torch.utils.data import DataLoader\n",
    "batch_size = 32\n",
    "loader_train = DataLoader(dataset_train, batch_size=batch_size, shuffle=True)\n",
    "loader_test = DataLoader(dataset_test, batch_size=1, shuffle=False)"
   ]
  },
  {
   "cell_type": "code",
   "execution_count": 252,
   "metadata": {},
   "outputs": [],
   "source": [
    "from torch import nn\n",
    "# build linear model\n",
    "class LinearRegression(nn.Module):\n",
    "\n",
    "    def __init__(self):\n",
    "        super(LinearRegression, self).__init__()\n",
    "        self.linear = nn.Linear(p, m)\n",
    "\n",
    "    def forward(self, x):\n",
    "        out = self.linear(x)\n",
    "        return out"
   ]
  },
  {
   "cell_type": "code",
   "execution_count": 253,
   "metadata": {},
   "outputs": [],
   "source": [
    "# a index of arbitrary instance to visualize\n",
    "ind = 0"
   ]
  },
  {
   "cell_type": "code",
   "execution_count": 254,
   "metadata": {},
   "outputs": [],
   "source": [
    "# train model\n",
    "def trainModel(reg, loss_func, method_name, num_epochs=20, lr=5e-2):\n",
    "    # set adam optimizer\n",
    "    optimizer = torch.optim.Adam(reg.parameters(), lr=lr)\n",
    "    # train mode\n",
    "    reg.train()\n",
    "    # log\n",
    "    loss_log, regret_log = [], []\n",
    "    for epoch in range(num_epochs):\n",
    "        # load data\n",
    "        for i, data in enumerate(loader_train):\n",
    "            x, c, w, z = data\n",
    "            # cuda\n",
    "            if torch.cuda.is_available():\n",
    "                x, c, w, z = x.cuda(), c.cuda(), w.cuda(), z.cuda()\n",
    "            # forward pass\n",
    "            cp = reg(x)\n",
    "            if method_name == \"spo+\":\n",
    "                loss = loss_func(cp, c, w, z)\n",
    "            elif method_name in [\"ptb\", \"pfy\", \"imle\", \"nce\"]:\n",
    "                loss = loss_func(cp, w)\n",
    "            elif method_name in [\"dbb\", \"nid\"]:\n",
    "                loss = loss_func(cp, c, z)\n",
    "            elif method_name in [\"2s\", \"ltr\"]:\n",
    "                loss = loss_func(cp, c)\n",
    "            # record loss\n",
    "            loss_log.append(loss.item())\n",
    "            # backward pass\n",
    "            optimizer.zero_grad()\n",
    "            loss.backward()\n",
    "            optimizer.step()\n",
    "        # record regrer\n",
    "        if epoch % 2 == 0:\n",
    "            regret = pyepo.metric.regret(reg, optmodel, loader_test)\n",
    "            print(\"Epoch {:2},  Loss: {:9.4f},  Regret: {:7.4f}%\".format(epoch, loss.item(), regret*100))\n",
    "            regret_log.append(regret)\n",
    "            print(w[0])\n",
    "            e0 = 0\n",
    "            n0 = 0\n",
    "            v0 = 0\n",
    "            for i in range(len(w[0])):\n",
    "                if w[0][i]:\n",
    "                    n0+=ni[i]\n",
    "                    e0+=ei[i]\n",
    "                    v0+=real_values[i]\n",
    "            alpha = (v0-e0)/n0\n",
    "            print(\"Alpha value =\"+alpha)\n",
    "\n",
    "                \n",
    "    # plot\n",
    "    visLearningCurve(loss_log, regret_log)"
   ]
  },
  {
   "cell_type": "code",
   "execution_count": 255,
   "metadata": {},
   "outputs": [
    {
     "data": {
      "image/png": "[encoded data removed]",
      "text/plain": [
       "<Figure size 800x400 with 1 Axes>"
      ]
     },
     "metadata": {},
     "output_type": "display_data"
    }
   ],
   "source": [
    "visSol(loader_test, optmodel, ind=ind, pytorch_model=None, method_name=None)"
   ]
  },
  {
   "cell_type": "code",
   "execution_count": 256,
   "metadata": {},
   "outputs": [],
   "source": [
    "# init model\n",
    "reg = LinearRegression()\n",
    "# cuda\n",
    "if torch.cuda.is_available():\n",
    "    reg = reg.cuda()"
   ]
  },
  {
   "cell_type": "code",
   "execution_count": 257,
   "metadata": {},
   "outputs": [
    {
     "name": "stdout",
     "output_type": "stream",
     "text": [
      "Num of cores: 2\n",
      "Epoch  0,  Loss:    1.8937,  Regret: 13.3852%\n",
      "tensor([0., 1., 1., -0., 1., 0., 0., -0., 1., 0.])\n"
     ]
    },
    {
     "ename": "TypeError",
     "evalue": "unsupported operand type(s) for +=: 'int' and 'list'",
     "output_type": "error",
     "traceback": [
      "\u001b[1;31m---------------------------------------------------------------------------\u001b[0m",
      "\u001b[1;31mTypeError\u001b[0m                                 Traceback (most recent call last)",
      "Cell \u001b[1;32mIn[257], line 4\u001b[0m\n\u001b[0;32m      2\u001b[0m spop \u001b[38;5;241m=\u001b[39m pyepo\u001b[38;5;241m.\u001b[39mfunc\u001b[38;5;241m.\u001b[39mSPOPlus(optmodel, processes\u001b[38;5;241m=\u001b[39m\u001b[38;5;241m2\u001b[39m)\n\u001b[0;32m      3\u001b[0m \u001b[38;5;66;03m# train\u001b[39;00m\n\u001b[1;32m----> 4\u001b[0m \u001b[43mtrainModel\u001b[49m\u001b[43m(\u001b[49m\u001b[43mreg\u001b[49m\u001b[43m,\u001b[49m\u001b[43m \u001b[49m\u001b[43mloss_func\u001b[49m\u001b[38;5;241;43m=\u001b[39;49m\u001b[43mspop\u001b[49m\u001b[43m,\u001b[49m\u001b[43m \u001b[49m\u001b[43mmethod_name\u001b[49m\u001b[38;5;241;43m=\u001b[39;49m\u001b[38;5;124;43m\"\u001b[39;49m\u001b[38;5;124;43mspo+\u001b[39;49m\u001b[38;5;124;43m\"\u001b[39;49m\u001b[43m)\u001b[49m\n",
      "Cell \u001b[1;32mIn[254], line 45\u001b[0m, in \u001b[0;36mtrainModel\u001b[1;34m(reg, loss_func, method_name, num_epochs, lr)\u001b[0m\n\u001b[0;32m     43\u001b[0m         n0\u001b[38;5;241m+\u001b[39m\u001b[38;5;241m=\u001b[39mni[i]\n\u001b[0;32m     44\u001b[0m         e0\u001b[38;5;241m+\u001b[39m\u001b[38;5;241m=\u001b[39mei[i]\n\u001b[1;32m---> 45\u001b[0m         v0\u001b[38;5;241m+\u001b[39m\u001b[38;5;241m=\u001b[39mreal_values[i]\n\u001b[0;32m     46\u001b[0m alpha \u001b[38;5;241m=\u001b[39m (v0\u001b[38;5;241m-\u001b[39me0)\u001b[38;5;241m/\u001b[39mn0\n\u001b[0;32m     47\u001b[0m \u001b[38;5;28mprint\u001b[39m(\u001b[38;5;124m\"\u001b[39m\u001b[38;5;124mAlpha value =\u001b[39m\u001b[38;5;124m\"\u001b[39m\u001b[38;5;241m+\u001b[39malpha)\n",
      "\u001b[1;31mTypeError\u001b[0m: unsupported operand type(s) for +=: 'int' and 'list'"
     ]
    }
   ],
   "source": [
    "# init SPO+ loss\n",
    "spop = pyepo.func.SPOPlus(optmodel, processes=2)\n",
    "# train\n",
    "trainModel(reg, loss_func=spop, method_name=\"spo+\")"
   ]
  },
  {
   "cell_type": "code",
   "execution_count": null,
   "metadata": {},
   "outputs": [
    {
     "data": {
      "image/png": "[encoded data removed]",
      "text/plain": [
       "<Figure size 800x400 with 1 Axes>"
      ]
     },
     "metadata": {},
     "output_type": "display_data"
    }
   ],
   "source": [
    "# compare solutions\n",
    "visSol(loader_test, optmodel, ind, pytorch_model=reg, method_name=\"SPO+\")"
   ]
  },
  {
   "cell_type": "code",
   "execution_count": null,
   "metadata": {},
   "outputs": [],
   "source": []
  },
  {
   "cell_type": "code",
   "execution_count": null,
   "metadata": {},
   "outputs": [],
   "source": []
  },
  {
   "cell_type": "code",
   "execution_count": null,
   "metadata": {},
   "outputs": [],
   "source": []
  },
  {
   "cell_type": "code",
   "execution_count": null,
   "metadata": {},
   "outputs": [],
   "source": []
  },
  {
   "cell_type": "code",
   "execution_count": null,
   "metadata": {},
   "outputs": [],
   "source": []
  },
  {
   "cell_type": "code",
   "execution_count": null,
   "metadata": {},
   "outputs": [],
   "source": []
  }
 ],
 "metadata": {
  "kernelspec": {
   "display_name": "Python 3",
   "language": "python",
   "name": "python3"
  },
  "language_info": {
   "codemirror_mode": {
    "name": "ipython",
    "version": 3
   },
   "file_extension": ".py",
   "mimetype": "text/x-python",
   "name": "python",
   "nbconvert_exporter": "python",
   "pygments_lexer": "ipython3",
   "version": "3.10.11"
  }
 },
 "nbformat": 4,
 "nbformat_minor": 2
}
